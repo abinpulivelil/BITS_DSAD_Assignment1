{
 "cells": [
  {
   "cell_type": "code",
   "execution_count": 25,
   "metadata": {},
   "outputs": [],
   "source": [
    "def readInputData():\n",
    "    input = open(\"inputPS3.txt\", \"r\")\n",
    "    dict_in = {}\n",
    "    dict_in[\"id\"]={}\n",
    "    dict_in[\"name\"]={}\n",
    "    dict_in[\"DOB\"]={}\n",
    "    dict_in[\"DOD\"]={}\n",
    "    counter = 0\n",
    "    for line in input:\n",
    "        data = line.split(';')\n",
    "        dict_in[\"id\"][counter]=data[0]\n",
    "        dict_in[\"name\"][counter]=data[1]\n",
    "        dict_in[\"DOB\"][counter]=data[2]\n",
    "        dict_in[\"DOD\"][counter]=data[3]\n",
    "        dict_in[\"DOD\"][counter]= [data[3],\"01-01-10000\"][len(data[3])==0]\n",
    "        counter+=1\n",
    "\n",
    "    return(dict_in)\n",
    "dict=readInputData()\n"
   ]
  },
  {
   "cell_type": "code",
   "execution_count": 26,
   "metadata": {},
   "outputs": [],
   "source": [
    "birthList = []\n",
    "for dob in dict['DOB'].values():\n",
    "    year = str(dob).split('-')\n",
    "    birthList.append(int(year[2]))\n",
    "\n",
    "deathList = []\n",
    "for dod in dict['DOD'].values():\n",
    "    year = str(dod).split('-')\n",
    "    deathList.append(int(year[2]))"
   ]
  },
  {
   "cell_type": "code",
   "execution_count": 27,
   "metadata": {},
   "outputs": [],
   "source": [
    "def myMax(list1): \n",
    "    max = list1[0] \n",
    "    for x in list1: \n",
    "        if x > max and x<10000 : \n",
    "             max = x \n",
    "\n",
    "    return max\n",
    "\n",
    "def myMin(list1): \n",
    "    min = list1[0] \n",
    "    for x in list1: \n",
    "        if x < min : \n",
    "             min = x \n",
    "\n",
    "    return min"
   ]
  },
  {
   "cell_type": "code",
   "execution_count": 29,
   "metadata": {
    "tags": [
     "outputPrepend"
    ]
   },
   "outputs": [],
   "source": [
    "nBirth={}\n",
    "nDeath={}\n",
    "nPopul={}\n",
    "for i in range(myMin(birthList),myMax(deathList)+1):\n",
    "    bvalue=0\n",
    "    for j in birthList:\n",
    "        if(i == j):\n",
    "            bvalue+=1\n",
    "            nBirth[i]=bvalue\n",
    "    dvalue=0\n",
    "    for k in deathList:\n",
    "        if(i == k):\n",
    "            dvalue+=1\n",
    "            nDeath[i]=dvalue\n",
    "    pvalue=0\n",
    "    for l in range(len(dict)):\n",
    "        if(i >= birthList[l] and i <= deathList[l]):\n",
    "            pvalue+=1\n",
    "            nPopul[i]=pvalue\n",
    "\n"
   ]
  },
  {
   "cell_type": "code",
   "execution_count": 30,
   "metadata": {},
   "outputs": [
    {
     "output_type": "stream",
     "name": "stdout",
     "text": "1\n"
    }
   ],
   "source": [
    "def countBorn(dict, year):\n",
    "    print(dict[year])\n",
    "\n",
    "\n",
    "countBorn(nBirth, 1931)"
   ]
  },
  {
   "cell_type": "code",
   "execution_count": 31,
   "metadata": {},
   "outputs": [
    {
     "output_type": "stream",
     "name": "stdout",
     "text": "1\n"
    }
   ],
   "source": [
    "def countDied(dict, year):\n",
    "    print(dict[year])\n",
    "\n",
    "countDied(nDeath, 2010)"
   ]
  },
  {
   "cell_type": "code",
   "execution_count": 45,
   "metadata": {},
   "outputs": [],
   "source": [
    "def maxPop(dict):\n",
    "    max2 = 0\n",
    "    for key,val in dict.items(): \n",
    "     if val > max2:\n",
    "         max2 = val\n",
    "         key2 = key\n",
    "    \n",
    "    return(key2)\n",
    "\n",
    "maxPop(nPopul)"
   ]
  },
  {
   "cell_type": "code",
   "execution_count": 52,
   "metadata": {},
   "outputs": [
    {
     "output_type": "stream",
     "name": "stdout",
     "text": "1930\n"
    }
   ],
   "source": [
    "def minPop(dict):\n",
    "    min2 = 10^1000\n",
    "    for key,val in dict.items(): \n",
    "     if val < min2:\n",
    "         min2 = val\n",
    "         key2 = key\n",
    "    \n",
    "    return(key2)\n",
    "\n",
    "minPop(nPopul)"
   ]
  },
  {
   "cell_type": "code",
   "execution_count": 53,
   "metadata": {},
   "outputs": [
    {
     "output_type": "execute_result",
     "data": {
      "text/plain": "1932"
     },
     "metadata": {},
     "execution_count": 53
    }
   ],
   "source": [
    "def maxBirth(dict):\n",
    "    max2 = 0\n",
    "    for key,val in dict.items(): \n",
    "     if val > max2:\n",
    "         max2 = val\n",
    "         key2 = key\n",
    "    \n",
    "    return(key2)\n",
    "\n",
    "\n",
    "maxBirth(nBirth)"
   ]
  },
  {
   "cell_type": "code",
   "execution_count": 54,
   "metadata": {},
   "outputs": [
    {
     "output_type": "execute_result",
     "data": {
      "text/plain": "2000"
     },
     "metadata": {},
     "execution_count": 54
    }
   ],
   "source": [
    "def maxDeath(dict):\n",
    "    max2 = 0\n",
    "    for key,val in dict.items(): \n",
    "     if val > max2:\n",
    "         max2 = val\n",
    "         key2 = key\n",
    "    \n",
    "    return(key2)\n",
    "\n",
    "\n",
    "maxDeath(nDeath) "
   ]
  },
  {
   "cell_type": "code",
   "execution_count": null,
   "metadata": {},
   "outputs": [],
   "source": [
    "def printOutput(dict):\n",
    "    file1 = open(\"myfile.txt\",\"a\") \n",
    "    file1.write(\"\") \n",
    "    file1.close()\n",
    "\n",
    "printOutput(dict)"
   ]
  }
 ],
 "metadata": {
  "language_info": {
   "codemirror_mode": {
    "name": "ipython",
    "version": 3
   },
   "file_extension": ".py",
   "mimetype": "text/x-python",
   "name": "python",
   "nbconvert_exporter": "python",
   "pygments_lexer": "ipython3",
   "version": "3.8.2-final"
  },
  "orig_nbformat": 2,
  "kernelspec": {
   "name": "python38232bitb65e9c437d814890a9f349a9987787f0",
   "display_name": "Python 3.8.2 32-bit"
  }
 },
 "nbformat": 4,
 "nbformat_minor": 2
}